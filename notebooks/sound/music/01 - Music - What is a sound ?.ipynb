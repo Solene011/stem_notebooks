{
 "cells": [
  {
   "cell_type": "code",
   "execution_count": 1,
   "metadata": {},
   "outputs": [],
   "source": [
    "import numpy as np\n",
    "import simpleaudio as sa\n",
    "import random\n",
    "fs = 44100\n",
    "\n",
    "def play_sinusoide(frequency, seconds):\n",
    "    # Generate array with seconds*sample_rate steps, ranging between 0 and seconds\n",
    "    t = np.linspace(0, seconds, int(seconds * fs), False)\n",
    "\n",
    "    # Generate a 440 Hz sine wave\n",
    "    note = np.sin(frequency * t * 2 * np.pi)\n",
    "\n",
    "    # Ensure that highest value is in 16-bit range\n",
    "    audio = note * (2**15 - 1) / np.max(np.abs(note))\n",
    "    # Convert to 16-bit data\n",
    "    audio = audio.astype(np.int16)\n",
    "\n",
    "    # Start playback\n",
    "    play_obj = sa.play_buffer(audio, 1, 2, fs)\n",
    "\n",
    "    # Wait for playback to finish before exiting\n",
    "    play_obj.wait_done()"
   ]
  },
  {
   "cell_type": "code",
   "execution_count": 2,
   "metadata": {},
   "outputs": [],
   "source": [
    "if False:\n",
    "    frequencies = [440, 880, 660]\n",
    "\n",
    "    for i in range(10):\n",
    "        f = random.choice(frequencies)\n",
    "\n",
    "        play_sinusoide(f, 0.5)\n"
   ]
  },
  {
   "cell_type": "code",
   "execution_count": 12,
   "metadata": {},
   "outputs": [],
   "source": [
    "import numpy\n",
    "import scipy.signal\n",
    "    \n",
    "class Note:\n",
    "    def __init__(self, frequency = 440, duration=1.0, volume=1.0):\n",
    "        self.frequency = frequency\n",
    "        self.duration = duration\n",
    "        self.volume = volume\n",
    "        \n",
    "    def create_silence(self):\n",
    "        # Generate array with seconds*sample_rate steps, ranging between 0 and seconds\n",
    "        note = np.zeros(int(self.duration * fs))\n",
    "        return note\n",
    "    \n",
    "    def create_sound(self):\n",
    "        # Generate array with seconds*sample_rate steps, ranging between 0 and seconds\n",
    "        t = np.linspace(0, self.duration, int(self.duration * fs), False)\n",
    "        note = np.sin(self.frequency * t * 2 * np.pi) * self.volume\n",
    "        return note\n",
    "    \n",
    "    def __repr__(self):\n",
    "        return \"Note:f=%s,d=%s,v=%s\" % (self.frequency, self.duration, self.volume)\n",
    "\n",
    "def resample(smp, scale=1.0):  \n",
    "    \"\"\"Resample a sound to be a different length\n",
    "    Sample must be mono.  May take some time for longer sounds\n",
    "    sampled at 44100 Hz.\n",
    "\n",
    "    Keyword arguments:\n",
    "    scale - scale factor for length of sound (2.0 means double length)\n",
    "    From https://stackoverflow.com/questions/37120969/how-can-we-use-scipy-signal-resample-to-downsample-the-speech-signal-from-44100\n",
    "    \"\"\"\n",
    "    import numpy\n",
    "    # f*ing cool, numpy can do this with one command\n",
    "    # calculate new length of sample\n",
    "    n = round(len(smp) * scale)\n",
    "    # use linear interpolation\n",
    "    # endpoint keyword means than linspace doesn't go all the way to 1.0\n",
    "    # If it did, there are some off-by-one errors\n",
    "    # e.g. scale=2.0, [1,2,3] should go to [1,1.5,2,2.5,3,3]\n",
    "    # but with endpoint=True, we get [1,1.4,1.8,2.2,2.6,3]\n",
    "    # Both are OK, but since resampling will often involve\n",
    "    # exact ratios (i.e. for 44100 to 22050 or vice versa)\n",
    "    # using endpoint=False gets less noise in the resampled sound\n",
    "    return numpy.interp(\n",
    "        numpy.linspace(0.0, 1.0, n, endpoint=False), # where to interpret\n",
    "        numpy.linspace(0.0, 1.0, len(smp), endpoint=False), # known positions\n",
    "        smp, # known data points\n",
    "        )\n",
    "class PianoNote(Note):\n",
    "    \n",
    "    raw_data = None        \n",
    "    @classmethod\n",
    "    def raw_data_init(cls):        \n",
    "        if cls.raw_data is None:\n",
    "            # From http://theremin.music.uiowa.edu/MISpiano.html\n",
    "            import audioread\n",
    "            filename = 'Piano.ff.C4.aiff'\n",
    "\n",
    "            with audioread.audio_open(filename) as f:\n",
    "                print(f.channels, f.samplerate, f.duration)\n",
    "                dat  = [x for x in f]          #Generate list of bytestrings\n",
    "                dat  = b''.join(dat)             #Join bytestrings into a single urbytestring\n",
    "                ndat = np.frombuffer(dat, '<i2') #Convert from audioread format to numbers\n",
    "                ndat = ndat.reshape(-1, 2)\n",
    "                ndat = ndat[:, 0]\n",
    "                cls.raw_data = ndat[22000:]\n",
    "                \n",
    "        return cls.raw_data\n",
    "              \n",
    "    def create_sound(self):\n",
    "        rd = self.raw_data_init()\n",
    "        r = self.create_silence()\n",
    "                    \n",
    "        resampled = resample(rd, scale=261.63 / self.frequency)\n",
    "        \n",
    "        r[:r.shape[0]] = resampled[:r.shape[0]]\n",
    "        return r                    \n",
    "\n",
    "        \n",
    "class Silence(Note):\n",
    "    def __init__(self, duration):\n",
    "        super().__init__(0, duration, 0)\n",
    "        \n",
    "    \n",
    "class Music:\n",
    "    def __init__(self):\n",
    "        self.elements = []\n",
    "        \n",
    "    def add_element(self, element):\n",
    "        self.elements.append(element)\n",
    "        \n",
    "    def add_elements(self, elements):\n",
    "        for e in elements:\n",
    "            self.add_element(e)\n",
    "        \n",
    "    def create_sound(self):\n",
    "        s = None\n",
    "        \n",
    "        sounds = [e.create_sound() for e in self.elements]\n",
    "        return numpy.concatenate(sounds)\n",
    "    \n",
    "    @staticmethod\n",
    "    def play_(sound):\n",
    "        # Ensure that highest value is in 16-bit range\n",
    "        max_abs = np.max(np.abs(sound))\n",
    "        if max_abs != 0:\n",
    "            rescale = (2**15 - 1) / float(max_abs)\n",
    "        else:\n",
    "            rescale = 0.0\n",
    "#        print(max_abs, rescale)\n",
    "        audio = sound * rescale\n",
    "        # Convert to 16-bit data\n",
    "        audio = audio.astype(np.int16)\n",
    "        # Start playback\n",
    "        play_obj = sa.play_buffer(audio, 1, 2, fs)\n",
    "\n",
    "        # Wait for playback to finish before exiting\n",
    "        play_obj.wait_done()  \n",
    "    \n",
    "    def play(self):\n",
    "        s = self.create_sound()\n",
    "        Music.play_(s)\n",
    "        \n",
    "    def plot(self):\n",
    "        s = self.create_sound()\n",
    "        from matplotlib import pyplot as plt\n",
    "\n",
    "        plt.plot(s)\n",
    "        \n"
   ]
  },
  {
   "cell_type": "code",
   "execution_count": 22,
   "metadata": {},
   "outputs": [
    {
     "data": {
      "image/png": "[encoded data removed]",
      "text/plain": [
       "<Figure size 432x288 with 1 Axes>"
      ]
     },
     "metadata": {
      "needs_background": "light"
     },
     "output_type": "display_data"
    }
   ],
   "source": [
    "if True:\n",
    "    m = Music()\n",
    "\n",
    "    frequencies = [440, 880, 660, 220, 330]\n",
    "\n",
    "    for i in range(5):\n",
    "        f = random.choice(frequencies)\n",
    "\n",
    "        n = PianoNote(frequency = f / 1.5, duration = 1)\n",
    "\n",
    "        m.add_element(n)        \n",
    "                \n",
    "    m.plot()\n",
    "    m.play()\n",
    "    \n",
    "if False:\n",
    "    m = Music()\n",
    "\n",
    "    pn = PianoNote(frequency = 220)\n",
    "\n",
    "    m.add_element(pn)\n",
    "                \n",
    "    m.play()\n",
    "    \n"
   ]
  },
  {
   "cell_type": "code",
   "execution_count": 23,
   "metadata": {},
   "outputs": [],
   "source": [
    "#from https://morsecode.world/international/timing.html\n",
    "\n",
    "morse_code = {'A':'.-', 'B':'-...',\n",
    "'C':'-.-.', 'D':'-..', 'E':'.',\n",
    "'F':'..-.', 'G':'--.', 'H':'....',\n",
    "'I':'..', 'J':'.---', 'K':'-.-',\n",
    "'L':'.-..', 'M':'--', 'N':'-.',\n",
    "'O':'---', 'P':'.--.', 'Q':'--.-',\n",
    "'R':'.-.', 'S':'...', 'T':'-',\n",
    "'U':'..-', 'V':'...-', 'W':'.--',\n",
    "'X':'-..-', 'Y':'-.--', 'Z':'--..',\n",
    "'1':'.----', '2':'..---', '3':'...--',\n",
    "'4':'....-', '5':'.....', '6':'-....',\n",
    "'7':'--...', '8':'---..', '9':'----.',\n",
    "'0':'-----', ', ':'--..--', '.':'.-.-.-',\n",
    "'?':'..--..', '/':'-..-.', '-':'-....-',\n",
    "'(':'-.--.', ')':'-.--.-', ' ': ' '}\n",
    "        "
   ]
  },
  {
   "cell_type": "code",
   "execution_count": 24,
   "metadata": {},
   "outputs": [],
   "source": [
    "m = Music()\n",
    "unit = 0.05\n",
    "text = \"ELEVEN\"\n",
    "frequency = 440\n",
    "for c in text:\n",
    "    mc = morse_code[c.upper()]\n",
    "    \n",
    "    elements = []\n",
    "    for d in mc:\n",
    "#        print(d)\n",
    "        if d == \".\":\n",
    "            n = Note(frequency = f*1.1, duration = unit)\n",
    "            s = Silence(duration = unit)\n",
    "            elements += [n, s]\n",
    "        elif d == \"-\":\n",
    "            n = Note(frequency = f, duration = unit * 3)\n",
    "            s = Silence(duration = unit)\n",
    "            elements += [n, s]                \n",
    "        elif d == \" \":\n",
    "            s = Silence(duration = unit * 4)\n",
    "            elements = [s]\n",
    "        else:\n",
    "            raise Exception(\"Unknown char %s\" % d)\n",
    "            \n",
    "    s = Silence(duration = unit * 3)\n",
    "    m.add_elements(elements)\n",
    "    m.add_element(s)\n",
    "                                \n",
    "m.play()\n"
   ]
  },
  {
   "cell_type": "code",
   "execution_count": 7,
   "metadata": {},
   "outputs": [
    {
     "name": "stdout",
     "output_type": "stream",
     "text": [
      "2 44100 36.01820861678004\n"
     ]
    }
   ],
   "source": [
    "# From http://theremin.music.uiowa.edu/MISpiano.html\n",
    "import audioread\n",
    "import numpy as np\n",
    "\n",
    "\n",
    "filename = 'Piano.ff.C4.aiff'\n",
    "\n",
    "with audioread.audio_open(filename) as f:\n",
    "    print(f.channels, f.samplerate, f.duration)\n",
    "    dat  = [x for x in f]          #Generate list of bytestrings\n",
    "    dat  = b''.join(dat)             #Join bytestrings into a single urbytestring\n",
    "    ndat = np.frombuffer(dat, '<i2') #Convert from audioread format to numbers\n",
    "    ndat = ndat.reshape(-1, 2)\n",
    "\n",
    "\n",
    "#    for buf in f:\n",
    "#        do_something(buf)\n",
    "        \n",
    "\n"
   ]
  },
  {
   "cell_type": "code",
   "execution_count": 70,
   "metadata": {},
   "outputs": [
    {
     "name": "stdout",
     "output_type": "stream",
     "text": [
      "1539.8170407635846\n",
      "(1588403,)\n"
     ]
    },
    {
     "data": {
      "text/plain": [
       "[<matplotlib.lines.Line2D at 0x11f5ac438>]"
      ]
     },
     "execution_count": 70,
     "metadata": {},
     "output_type": "execute_result"
    },
    {
     "data": {
      "image/png": "[encoded data removed]",
      "text/plain": [
       "<Figure size 432x288 with 1 Axes>"
      ]
     },
     "metadata": {
      "needs_background": "light"
     },
     "output_type": "display_data"
    }
   ],
   "source": [
    "b = ndat[:,0]\n",
    "print((b * b).mean())\n",
    "print(b.shape)\n",
    "\n",
    "    \n",
    "from matplotlib import pyplot as plt\n",
    "\n",
    "plt.plot(b[22000:100000])"
   ]
  },
  {
   "cell_type": "code",
   "execution_count": 67,
   "metadata": {},
   "outputs": [
    {
     "name": "stdout",
     "output_type": "stream",
     "text": [
      "13140 2.493683409436834 2.493683409436834\n"
     ]
    }
   ],
   "source": [
    "Music.play_(b[10000:80000])"
   ]
  },
  {
   "cell_type": "code",
   "execution_count": 68,
   "metadata": {},
   "outputs": [],
   "source": [
    "# Start playback\n",
    "audio = b.astype(np.int16)\n",
    "play_obj = sa.play_buffer(audio, 1, 2, fs)\n",
    "\n",
    "# Wait for playback to finish before exiting\n",
    "play_obj.wait_done()  "
   ]
  },
  {
   "cell_type": "code",
   "execution_count": 71,
   "metadata": {},
   "outputs": [
    {
     "ename": "NameError",
     "evalue": "name 'PianoNote' is not defined",
     "output_type": "error",
     "traceback": [
      "\u001b[0;31m---------------------------------------------------------------------------\u001b[0m",
      "\u001b[0;31mNameError\u001b[0m                                 Traceback (most recent call last)",
      "\u001b[0;32m<ipython-input-71-b92d386abb7f>\u001b[0m in \u001b[0;36m<module>\u001b[0;34m\u001b[0m\n\u001b[0;32m----> 1\u001b[0;31m \u001b[0mpn\u001b[0m \u001b[0;34m=\u001b[0m \u001b[0mPianoNote\u001b[0m\u001b[0;34m(\u001b[0m\u001b[0;34m)\u001b[0m\u001b[0;34m\u001b[0m\u001b[0;34m\u001b[0m\u001b[0m\n\u001b[0m",
      "\u001b[0;31mNameError\u001b[0m: name 'PianoNote' is not defined"
     ]
    }
   ],
   "source": []
  },
  {
   "cell_type": "code",
   "execution_count": null,
   "metadata": {},
   "outputs": [],
   "source": []
  }
 ],
 "metadata": {
  "kernelspec": {
   "display_name": "Python 3",
   "language": "python",
   "name": "python3"
  },
  "language_info": {
   "codemirror_mode": {
    "name": "ipython",
    "version": 3
   },
   "file_extension": ".py",
   "mimetype": "text/x-python",
   "name": "python",
   "nbconvert_exporter": "python",
   "pygments_lexer": "ipython3",
   "version": "3.7.3"
  }
 },
 "nbformat": 4,
 "nbformat_minor": 2
}
