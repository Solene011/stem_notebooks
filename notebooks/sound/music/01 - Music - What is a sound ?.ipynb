{
 "cells": [
  {
   "cell_type": "markdown",
   "metadata": {},
   "source": [
    "# This is our first experiment on sound and music\n",
    "\n",
    "Today we'll learn how to create a sound on a computer, how we can visualize it, and how we can play it.\n",
    "\n",
    "First, what is a sound for a computer ?\n",
    "It's just a sequence of numbers that describe the way \"air pressure\" is changing with time.\n",
    "You don't have to know exactly what does it mean, but basically if you create difference sequences of numbers, you create different sounds.\n",
    "Today we'll have a quick look at which sequence of numbers create which sound.\n",
    "\n",
    "## Let's create our first sounds\n",
    "The purest sound is called a sinusoid.\n",
    "You'll hear it easily in a few moments.\n",
    "\n",
    "We'll need some tools to create sounds, visualize them and play them.\n",
    "We will create some python functions to do so.\n",
    "\n",
    "First, create_sinusoid will do what its name suggest, and plot_sound will allow us to see what the numbers look like.\n",
    "\n"
   ]
  },
  {
   "cell_type": "code",
   "execution_count": 15,
   "metadata": {},
   "outputs": [
    {
     "data": {
      "image/png": "[encoded data removed]",
      "text/plain": [
       "<Figure size 432x288 with 1 Axes>"
      ]
     },
     "metadata": {
      "needs_background": "light"
     },
     "output_type": "display_data"
    }
   ],
   "source": [
    "import numpy as np\n",
    "from matplotlib import pyplot as plt\n",
    "\n",
    "fs = 44100\n",
    "\n",
    "def create_sinusoide_sound(frequency, seconds):\n",
    "    \"\"\"This will create a sinusoid lasting 'seconds' with the given frequency.\n",
    "    A frequency of 440 is the A3 note.\"\"\"\n",
    "    # Generate array with seconds*sample_rate steps, ranging between 0 and seconds\n",
    "    t = np.linspace(0, seconds, int(seconds * fs), False)\n",
    "\n",
    "    # Generate a 440 Hz sine wave\n",
    "    note = np.sin(frequency * t * 2 * np.pi)\n",
    "    \n",
    "    return note\n",
    "\n",
    "def plot_sound(input_sound):\n",
    "    plt.plot(input_sound)\n",
    "\n",
    "# Here we create a short sound, the A note    \n",
    "sound = create_sinusoide_sound(440, 5 / 440.0)\n",
    "# We display it\n",
    "plot_sound(sound)"
   ]
  },
  {
   "cell_type": "markdown",
   "metadata": {},
   "source": [
    "Now let's play it, using a new function, play_sound"
   ]
  },
  {
   "cell_type": "code",
   "execution_count": 16,
   "metadata": {},
   "outputs": [],
   "source": [
    "\n",
    "import simpleaudio as sa\n",
    "import random\n",
    "fs = 44100\n",
    "\n",
    "def play_sound(input_sound):    \n",
    "    # Ensure that highest value is in 16-bit range\n",
    "    audio = input_sound * (2**15 - 1) / np.max(np.abs(input_sound))\n",
    "    # Convert to 16-bit data\n",
    "    audio = audio.astype(np.int16)\n",
    "\n",
    "    # Start playback\n",
    "    play_obj = sa.play_buffer(audio, 1, 2, fs)\n",
    "\n",
    "    # Wait for playback to finish before exiting\n",
    "    play_obj.wait_done()\n",
    "    \n",
    "\n",
    "# Here we create a longer sound (1 second), the A note    \n",
    "sound = create_sinusoide_sound(440, 1)\n",
    "play_sound(sound)\n",
    "\n",
    "    "
   ]
  },
  {
   "cell_type": "markdown",
   "metadata": {},
   "source": [
    "What if we change the 440 ? And if we play several notes in sequence ?"
   ]
  },
  {
   "cell_type": "code",
   "execution_count": 17,
   "metadata": {},
   "outputs": [],
   "source": [
    "sound = create_sinusoide_sound(220, 1)\n",
    "play_sound(sound)\n",
    "\n",
    "sound = create_sinusoide_sound(440, 1)\n",
    "play_sound(sound)\n",
    "\n",
    "sound = create_sinusoide_sound(880, 1)\n",
    "play_sound(sound)"
   ]
  },
  {
   "cell_type": "code",
   "execution_count": 18,
   "metadata": {},
   "outputs": [],
   "source": [
    "sound = create_sinusoide_sound(220, 1)\n",
    "play_sound(sound)\n",
    "\n",
    "sound = create_sinusoide_sound(330, 1)\n",
    "play_sound(sound)\n",
    "\n",
    "sound = create_sinusoide_sound(440, 1)\n",
    "play_sound(sound)"
   ]
  },
  {
   "cell_type": "code",
   "execution_count": 19,
   "metadata": {},
   "outputs": [],
   "source": [
    "frequencies = [220, 280, 330, 440, 880, 660]\n",
    "\n",
    "for i in range(10):\n",
    "    f = random.choice(frequencies)\n",
    "    sound = create_sinusoide_sound(f, 1.0)\n",
    "    play_sound(sound)\n"
   ]
  },
  {
   "cell_type": "code",
   "execution_count": null,
   "metadata": {},
   "outputs": [],
   "source": []
  }
 ],
 "metadata": {
  "kernelspec": {
   "display_name": "Python 3",
   "language": "python",
   "name": "python3"
  },
  "language_info": {
   "codemirror_mode": {
    "name": "ipython",
    "version": 3
   },
   "file_extension": ".py",
   "mimetype": "text/x-python",
   "name": "python",
   "nbconvert_exporter": "python",
   "pygments_lexer": "ipython3",
   "version": "3.7.3"
  }
 },
 "nbformat": 4,
 "nbformat_minor": 2
}
